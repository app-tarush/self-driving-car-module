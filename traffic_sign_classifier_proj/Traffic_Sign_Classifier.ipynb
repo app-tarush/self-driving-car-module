{
  "nbformat": 4,
  "nbformat_minor": 0,
  "metadata": {
    "colab": {
      "name": "Traffic_Sign_Classifier.ipynb",
      "version": "0.3.2",
      "provenance": [],
      "collapsed_sections": []
    },
    "kernelspec": {
      "display_name": "Python 3",
      "language": "python",
      "name": "python3"
    },
    "accelerator": "GPU"
  },
  "cells": [
    {
      "metadata": {
        "id": "Px6Zx96UA0G4",
        "colab_type": "text"
      },
      "cell_type": "markdown",
      "source": [
        "# Self-Driving Car Engineer Nanodegree\n",
        "\n",
        "## Deep Learning\n",
        "\n",
        "## Project: Build a Traffic Sign Recognition Classifier\n",
        "\n",
        "In this notebook, a template is provided for you to implement your functionality in stages, which is required to successfully complete this project. If additional code is required that cannot be included in the notebook, be sure that the Python code is successfully imported and included in your submission if necessary. \n",
        "\n",
        "> **Note**: Once you have completed all of the code implementations, you need to finalize your work by exporting the iPython Notebook as an HTML document. Before exporting the notebook to html, all of the code cells need to have been run so that reviewers can see the final implementation and output. You can then export the notebook by using the menu above and navigating to  \\n\",\n",
        "    \"**File -> Download as -> HTML (.html)**. Include the finished document along with this notebook as your submission. \n",
        "\n",
        "In addition to implementing code, there is a writeup to complete. The writeup should be completed in a separate file, which can be either a markdown file or a pdf document. There is a [write up template](https://github.com/udacity/CarND-Traffic-Sign-Classifier-Project/blob/master/writeup_template.md) that can be used to guide the writing process. Completing the code template and writeup template will cover all of the [rubric points](https://review.udacity.com/#!/rubrics/481/view) for this project.\n",
        "\n",
        "The [rubric](https://review.udacity.com/#!/rubrics/481/view) contains \"Stand Out Suggestions\" for enhancing the project beyond the minimum requirements. The stand out suggestions are optional. If you decide to pursue the \"stand out suggestions\", you can include the code in this Ipython notebook and also discuss the results in the writeup file.\n",
        "\n",
        "\n",
        ">**Note:** Code and Markdown cells can be executed using the **Shift + Enter** keyboard shortcut. In addition, Markdown cells can be edited by typically double-clicking the cell to enter edit mode."
      ]
    },
    {
      "metadata": {
        "id": "EwicpjBjL_kd",
        "colab_type": "text"
      },
      "cell_type": "markdown",
      "source": [
        "# **Importing traffic signs data set!**"
      ]
    },
    {
      "metadata": {
        "id": "bIhpLHPjL95x",
        "colab_type": "code",
        "colab": {
          "base_uri": "https://localhost:8080/",
          "height": 134
        },
        "outputId": "766daba6-fde8-4a1f-c946-3f0edf8dddd3"
      },
      "cell_type": "code",
      "source": [
        "!curl -O https://s3-us-west-1.amazonaws.com/udacity-selfdrivingcar/traffic-signs-data.zip\n",
        "!curl -O https://s3-us-west-1.amazonaws.com/self-driving-datasets/signnames.csv\n",
        "!unzip traffic-signs-data.zip -d data"
      ],
      "execution_count": 1,
      "outputs": [
        {
          "output_type": "stream",
          "text": [
            "  % Total    % Received % Xferd  Average Speed   Time    Time     Time  Current\r\n",
            "                                 Dload  Upload   Total   Spent    Left  Speed\n",
            "100  117M  100  117M    0     0  39.2M      0  0:00:03  0:00:03 --:--:-- 31.5M\n",
            "Archive:  traffic-signs-data.zip\n",
            "  inflating: data/test.p             \n",
            "  inflating: data/train.p            \n",
            "  inflating: data/valid.p            \n"
          ],
          "name": "stdout"
        }
      ]
    },
    {
      "metadata": {
        "id": "8u2fhcwWA0G5",
        "colab_type": "text"
      },
      "cell_type": "markdown",
      "source": [
        "---\n",
        "## Step 0: Load The Data"
      ]
    },
    {
      "metadata": {
        "id": "yYcCbE91A0G6",
        "colab_type": "code",
        "colab": {}
      },
      "cell_type": "code",
      "source": [
        "# Load pickled data\n",
        "import pickle\n",
        "\n",
        "# TODO: Fill this in based on where you saved the training and testing data\n",
        "def load_pickle_obj(path):\n",
        "  if path is None:\n",
        "    raise AttributeError('path cannot be null!')\n",
        "  with open(path, 'rb') as f:\n",
        "    loaded = pickle.load(f)\n",
        "  return loaded\n",
        "\n",
        "training_file = './data/train.p'\n",
        "validation_file ='./data/valid.p'\n",
        "testing_file = './data/test.p'\n",
        "\n",
        "train = load_pickle_obj(training_file)\n",
        "valid = load_pickle_obj(validation_file)\n",
        "test = load_pickle_obj(testing_file)\n",
        "\n",
        "X_train, y_train = train['features'], train['labels']\n",
        "X_valid, y_valid = valid['features'], valid['labels']\n",
        "X_test, y_test = test['features'], test['labels']"
      ],
      "execution_count": 0,
      "outputs": []
    },
    {
      "metadata": {
        "id": "n992eAGwA0G9",
        "colab_type": "text"
      },
      "cell_type": "markdown",
      "source": [
        "---\n",
        "\n",
        "## Step 1: Dataset Summary & Exploration\n",
        "\n",
        "The pickled data is a dictionary with 4 key/value pairs:\n",
        "\n",
        "- `'features'` is a 4D array containing raw pixel data of the traffic sign images, (num examples, width, height, channels).\n",
        "- `'labels'` is a 1D array containing the label/class id of the traffic sign. The file `signnames.csv` contains id -> name mappings for each id.\n",
        "- `'sizes'` is a list containing tuples, (width, height) representing the original width and height the image.\n",
        "- `'coords'` is a list containing tuples, (x1, y1, x2, y2) representing coordinates of a bounding box around the sign in the image. **THESE COORDINATES ASSUME THE ORIGINAL IMAGE. THE PICKLED DATA CONTAINS RESIZED VERSIONS (32 by 32) OF THESE IMAGES**\n",
        "\n",
        "Complete the basic data summary below. Use python, numpy and/or pandas methods to calculate the data summary rather than hard coding the results. For example, the [pandas shape method](http://pandas.pydata.org/pandas-docs/stable/generated/pandas.DataFrame.shape.html) might be useful for calculating some of the summary results. "
      ]
    },
    {
      "metadata": {
        "id": "dOoqHuyDA0G-",
        "colab_type": "text"
      },
      "cell_type": "markdown",
      "source": [
        "### Provide a Basic Summary of the Data Set Using Python, Numpy and/or Pandas"
      ]
    },
    {
      "metadata": {
        "id": "kSoz_h1JA0G_",
        "colab_type": "code",
        "colab": {
          "base_uri": "https://localhost:8080/",
          "height": 101
        },
        "outputId": "47a3facb-9b78-4e49-d5e5-6e99264067ef"
      },
      "cell_type": "code",
      "source": [
        "### Replace each question mark with the appropriate value. \n",
        "### Use python, pandas or numpy methods rather than hard coding the results\n",
        "import numpy as np\n",
        "import pandas as pd\n",
        "\n",
        "# TODO: Number of training examples\n",
        "n_train = len(X_train)\n",
        "\n",
        "# TODO: Number of validation examples\n",
        "n_validation = len(X_valid)\n",
        "\n",
        "# TODO: Number of testing examples.\n",
        "n_test = len(X_test)\n",
        "\n",
        "# TODO: What's the shape of an traffic sign image?\n",
        "img_index = np.random.randint(0, X_train.shape[0])\n",
        "image_shape = X_train[img_index].shape\n",
        "\n",
        "# TODO: How many unique classes/labels there are in the dataset.\n",
        "n_classes = np.size(np.unique(y_train))\n",
        "\n",
        "print(\"Number of training examples =\", n_train)\n",
        "print(\"Number of testing examples =\", n_test)\n",
        "print(\"Number of validation examples =\", n_validation)\n",
        "print(\"Image data shape =\", image_shape)\n",
        "print(\"Number of classes =\", n_classes)"
      ],
      "execution_count": 5,
      "outputs": [
        {
          "output_type": "stream",
          "text": [
            "Number of training examples = 34799\n",
            "Number of testing examples = 12630\n",
            "Number of validation examples = 4410\n",
            "Image data shape = (32, 32, 3)\n",
            "Number of classes = 43\n"
          ],
          "name": "stdout"
        }
      ]
    },
    {
      "metadata": {
        "id": "8qoSW81XA0HB",
        "colab_type": "text"
      },
      "cell_type": "markdown",
      "source": [
        "### Include an exploratory visualization of the dataset"
      ]
    },
    {
      "metadata": {
        "id": "Un4IQUztA0HD",
        "colab_type": "text"
      },
      "cell_type": "markdown",
      "source": [
        "Visualize the German Traffic Signs Dataset using the pickled file(s). This is open ended, suggestions include: plotting traffic sign images, plotting the count of each sign, etc. \n",
        "\n",
        "The [Matplotlib](http://matplotlib.org/) [examples](http://matplotlib.org/examples/index.html) and [gallery](http://matplotlib.org/gallery.html) pages are a great resource for doing visualizations in Python.\n",
        "\n",
        "**NOTE:** It's recommended you start with something simple first. If you wish to do more, come back to it after you've completed the rest of the sections. It can be interesting to look at the distribution of classes in the training, validation and test set. Is the distribution the same? Are there more examples of some classes than others?"
      ]
    },
    {
      "metadata": {
        "id": "Ptm-Ev9BA0HD",
        "colab_type": "code",
        "colab": {}
      },
      "cell_type": "code",
      "source": [
        "### Data exploration visualization code goes here.\n",
        "### Feel free to use as many code cells as needed.\n",
        "import matplotlib.pyplot as plt\n",
        "# Visualizations will be shown in the notebook.\n",
        "%matplotlib inline"
      ],
      "execution_count": 0,
      "outputs": []
    },
    {
      "metadata": {
        "id": "kofOwAskajtk",
        "colab_type": "code",
        "colab": {}
      },
      "cell_type": "code",
      "source": [
        "import pandas as pd\n",
        "\n",
        "\n",
        "def agg_data_by_count(df, cols):\n",
        "  return pd.DataFrame(data=df.groupby(by=cols).size())\n",
        "\n",
        "train_df = pd.DataFrame(data=y_train, columns=['ClassId'])\n",
        "valid_df = pd.DataFrame(data=y_valid, columns=['ClassId'])\n",
        "test_df = pd.DataFrame(data=y_test, columns=['ClassId'])\n",
        "sign_df = pd.read_csv('./signnames.csv')\n",
        "train_agg_df = agg_data_by_count(train_df, 'ClassId')\n",
        "valid_agg_df = agg_data_by_count(valid_df, 'ClassId')\n",
        "test_agg_df = agg_data_by_count(test_df, 'ClassId')\n",
        "\n",
        "train_agg_df['ClassId'] = train_agg_df.index\n",
        "valid_agg_df['ClassId'] = valid_agg_df.index\n",
        "test_agg_df['ClassId'] = test_agg_df.index\n",
        "\n",
        "data_dict = {\n",
        "    'training' : pd.merge(train_agg_df, sign_df, on='ClassId'),\n",
        "    'validation' : pd.merge(valid_agg_df, sign_df, on='ClassId'),\n",
        "    'test' : pd.merge(test_agg_df, sign_df, on='ClassId')\n",
        "}"
      ],
      "execution_count": 0,
      "outputs": []
    },
    {
      "metadata": {
        "id": "mArbtHY-jfx1",
        "colab_type": "code",
        "colab": {
          "base_uri": "https://localhost:8080/",
          "height": 581
        },
        "outputId": "2bdde62f-6dc9-4370-eead-b0cec6cb5dbe"
      },
      "cell_type": "code",
      "source": [
        "nrows = 1\n",
        "ncols = len(data_dict)\n",
        "fig3, axs3 = plt.subplots(nrows, ncols, sharex=True, sharey=True,figsize=(30, 5))\n",
        "\n",
        "for col, key in enumerate(data_dict):\n",
        "  axs3[col].set_title('Showing count distribution for {} set'.format(key))\n",
        "  axs3[col].set_xticks(data_dict[key]['ClassId'])\n",
        "  axs3[col].set_xticklabels(data_dict[key]['SignName'], rotation='vertical')\n",
        "  axs3[col].set_ylabel('Number')\n",
        "  axs3[col].set_xlabel('German traffic Signs')\n",
        "  axs3[col].bar(data_dict[key]['ClassId'], data_dict[key][0])"
      ],
      "execution_count": 79,
      "outputs": [
        {
          "output_type": "display_data",
          "data": {
            "image/png": "[encoded data removed]",
            "text/plain": [
              "<matplotlib.figure.Figure at 0x7f28867c8a90>"
            ]
          },
          "metadata": {
            "tags": []
          }
        }
      ]
    },
    {
      "metadata": {
        "id": "5ZzCjuNLJEIo",
        "colab_type": "code",
        "colab": {
          "base_uri": "https://localhost:8080/",
          "height": 282
        },
        "outputId": "e567846f-f2b0-415a-e440-e13ada1dd149"
      },
      "cell_type": "code",
      "source": [
        "#### Plotting traffic sign image\n",
        "import random\n",
        "img_index = random.randint(0, len(X_train))\n",
        "img = X_train[img_index]\n",
        "plt.imshow(img)\n",
        "print(y_train[img_index])"
      ],
      "execution_count": 7,
      "outputs": [
        {
          "output_type": "stream",
          "text": [
            "8\n"
          ],
          "name": "stdout"
        },
        {
          "output_type": "display_data",
          "data": {
            "image/png": "[encoded data removed]",
            "text/plain": [
              "<matplotlib.figure.Figure at 0x7f288d7f08d0>"
            ]
          },
          "metadata": {
            "tags": []
          }
        }
      ]
    },
    {
      "metadata": {
        "id": "hllGgizyA0HF",
        "colab_type": "text"
      },
      "cell_type": "markdown",
      "source": [
        "----\n",
        "\n",
        "## Step 2: Design and Test a Model Architecture\n",
        "\n",
        "Design and implement a deep learning model that learns to recognize traffic signs. Train and test your model on the [German Traffic Sign Dataset](http://benchmark.ini.rub.de/?section=gtsrb&subsection=dataset).\n",
        "\n",
        "The LeNet-5 implementation shown in the [classroom](https://classroom.udacity.com/nanodegrees/nd013/parts/fbf77062-5703-404e-b60c-95b78b2f3f9e/modules/6df7ae49-c61c-4bb2-a23e-6527e69209ec/lessons/601ae704-1035-4287-8b11-e2c2716217ad/concepts/d4aca031-508f-4e0b-b493-e7b706120f81) at the end of the CNN lesson is a solid starting point. You'll have to change the number of classes and possibly the preprocessing, but aside from that it's plug and play! \n",
        "\n",
        "With the LeNet-5 solution from the lecture, you should expect a validation set accuracy of about 0.89. To meet specifications, the validation set accuracy will need to be at least 0.93. It is possible to get an even higher accuracy, but 0.93 is the minimum for a successful project submission. \n",
        "\n",
        "There are various aspects to consider when thinking about this problem:\n",
        "\n",
        "- Neural network architecture (is the network over or underfitting?)\n",
        "- Play around preprocessing techniques (normalization, rgb to grayscale, etc)\n",
        "- Number of examples per label (some have more than others).\n",
        "- Generate fake data.\n",
        "\n",
        "Here is an example of a [published baseline model on this problem](http://yann.lecun.com/exdb/publis/pdf/sermanet-ijcnn-11.pdf). It's not required to be familiar with the approach used in the paper but, it's good practice to try to read papers like these."
      ]
    },
    {
      "metadata": {
        "id": "Oq6EnFhSA0HG",
        "colab_type": "text"
      },
      "cell_type": "markdown",
      "source": [
        "### Pre-process the Data Set (normalization, grayscale, etc.)"
      ]
    },
    {
      "metadata": {
        "id": "7AJNTjWSA0HI",
        "colab_type": "text"
      },
      "cell_type": "markdown",
      "source": [
        "Minimally, the image data should be normalized so that the data has mean zero and equal variance. For image data, `(pixel - 128)/ 128` is a quick way to approximately normalize the data and can be used in this project. \n",
        "\n",
        "Other pre-processing steps are optional. You can try different techniques to see if it improves performance. \n",
        "\n",
        "Use the code cell (or multiple code cells, if necessary) to implement the first step of your project."
      ]
    },
    {
      "metadata": {
        "id": "ZA8GowYWA0HI",
        "colab_type": "code",
        "colab": {}
      },
      "cell_type": "code",
      "source": [
        "### Preprocess the data here. It is required to normalize the data. Other preprocessing steps could include \n",
        "### converting to grayscale, etc.\n",
        "### Feel free to use as many code cells as needed.\n",
        "\n",
        "def normalize(img):\n",
        "  return (img - 128)/128\n",
        "\n",
        "def grayscale_op(img):\n",
        "  return np.dot(img, [0.2989, 0.5870, 0.1140])"
      ],
      "execution_count": 0,
      "outputs": []
    },
    {
      "metadata": {
        "id": "_i4GQDChyD6S",
        "colab_type": "code",
        "colab": {}
      },
      "cell_type": "code",
      "source": [
        "## preprocessing the data\n",
        "from sklearn.utils import shuffle\n",
        "\n",
        "def preprocess_data(X, y=None):\n",
        "  X = normalize(grayscale_op(X))\n",
        "  \n",
        "  if y is not None:\n",
        "    X, y = shuffle(X, y)\n",
        "  # add single grayscale channel\n",
        "  X = X.reshape(X.shape + (1,))\n",
        "  return X, y"
      ],
      "execution_count": 0,
      "outputs": []
    },
    {
      "metadata": {
        "id": "FK9qoEoQzv_K",
        "colab_type": "code",
        "colab": {
          "base_uri": "https://localhost:8080/",
          "height": 178
        },
        "outputId": "59f0523d-47e2-4567-9a9c-cb017fcba9b5"
      },
      "cell_type": "code",
      "source": [
        "grayscale_train = grayscale_op(X_train)\n",
        "norm_train = normalize(grayscale_train)"
      ],
      "execution_count": 9,
      "outputs": [
        {
          "output_type": "execute_result",
          "data": {
            "text/plain": [
              "Text(0.5,1,'Normalized')"
            ]
          },
          "metadata": {
            "tags": []
          },
          "execution_count": 9
        },
        {
          "output_type": "display_data",
          "data": {
            "image/png": "[encoded data removed]",
            "text/plain": [
              "<matplotlib.figure.Figure at 0x7f16e4684278>"
            ]
          },
          "metadata": {
            "tags": []
          }
        }
      ]
    },
    {
      "metadata": {
        "id": "3rSyeTMgZLZ_",
        "colab_type": "code",
        "colab": {
          "base_uri": "https://localhost:8080/",
          "height": 161
        },
        "outputId": "aacbc4e3-b149-4838-c791-daf3ea80565c"
      },
      "cell_type": "code",
      "source": [
        "img_index = random.randint(0, len(norm_train))\n",
        "figure, (axs1, axs2, axs3) = plt.subplots(1, 3)\n",
        "\n",
        "axs1.imshow(X_train[img_index])\n",
        "axs1.set_title('Original')\n",
        "\n",
        "axs2.imshow(grayscale_train[img_index])\n",
        "axs2.set_title('Grayscaled')\n",
        "\n",
        "axs3.imshow(norm_train[img_index])\n",
        "axs3.set_title('Normalized')\n",
        "\n",
        "plt.show()"
      ],
      "execution_count": 23,
      "outputs": [
        {
          "output_type": "display_data",
          "data": {
            "image/png": "[encoded data removed]",
            "text/plain": [
              "<matplotlib.figure.Figure at 0x7f1692b0ea90>"
            ]
          },
          "metadata": {
            "tags": []
          }
        }
      ]
    },
    {
      "metadata": {
        "id": "ejxOCCGDmV54",
        "colab_type": "code",
        "colab": {}
      },
      "cell_type": "code",
      "source": [
        "## Setup tensorflow\n",
        "\n",
        "EPOCHS = 15\n",
        "BATCH_SIZE = 150"
      ],
      "execution_count": 0,
      "outputs": []
    },
    {
      "metadata": {
        "id": "xCHCg4KeA0HL",
        "colab_type": "text"
      },
      "cell_type": "markdown",
      "source": [
        "### Model Architecture"
      ]
    },
    {
      "metadata": {
        "id": "w-DXQEKgA0HL",
        "colab_type": "code",
        "colab": {}
      },
      "cell_type": "code",
      "source": [
        "### Define your architecture here.\n",
        "### Feel free to use as many code cells as needed.\n",
        "from tensorflow.contrib.layers import flatten\n",
        "\n",
        "def LeNet(x, input_color=1, output_classes=10):    \n",
        "    # Arguments used for tf.truncated_normal, randomly defines variables for the weights and biases for each layer\n",
        "    mu = 0\n",
        "    sigma = 0.1\n",
        "    \n",
        "    # SOLUTION: Layer 1: Convolutional. Input = 32x32x1. Output = 28x28x6. (30x30x32)\n",
        "    conv1_W = tf.Variable(tf.truncated_normal(shape=(3, 3, input_color, 32), mean = mu, stddev = sigma))\n",
        "    conv1_b = tf.Variable(tf.zeros(32))\n",
        "    conv1   = tf.nn.conv2d(x, conv1_W, strides=[1, 1, 1, 1], padding='VALID') + conv1_b\n",
        "\n",
        "    # SOLUTION: Activation.\n",
        "    conv1 = tf.nn.relu(conv1)\n",
        "\n",
        "    # SOLUTION: Pooling. Input = 28x28x6. Output = 14x14x6. (15x15x32)\n",
        "    conv1 = tf.nn.max_pool(conv1, ksize=[1, 2, 2, 1], strides=[1, 2, 2, 1], padding='VALID')\n",
        "\n",
        "    # SOLUTION: Layer 2: Convolutional. Output = 10x10x16. (13x13x64)\n",
        "    conv2_W = tf.Variable(tf.truncated_normal(shape=(3, 3, 32, 64), mean = mu, stddev = sigma))\n",
        "    conv2_b = tf.Variable(tf.zeros(64))\n",
        "    conv2   = tf.nn.conv2d(conv1, conv2_W, strides=[1, 1, 1, 1], padding='VALID') + conv2_b\n",
        "    \n",
        "    # SOLUTION: Activation.\n",
        "    conv2 = tf.nn.relu(conv2)\n",
        "\n",
        "    # SOLUTION: Pooling. Input = 10x10x16. Output = 5x5x16.\n",
        "    conv2 = tf.nn.max_pool(conv2, ksize=[1, 2, 2, 1], strides=[1, 1, 1, 1], padding='VALID')\n",
        "    \n",
        "    # ADDING Layer 3: Convolutional.\n",
        "    conv3_W = tf.Variable(tf.truncated_normal(shape=(3, 3, 64, 128), mean = mu, stddev = sigma))\n",
        "    conv3_b = tf.Variable(tf.zeros(128))\n",
        "    conv3   = tf.nn.conv2d(conv2, conv3_W, strides=[1, 1, 1, 1], padding='VALID') + conv3_b\n",
        "    \n",
        "    # SOLUTION: Activation.\n",
        "    conv3 = tf.nn.relu(conv3)\n",
        "\n",
        "    # SOLUTION: Pooling. Input = 10x10x16. Output = 5x5x16.\n",
        "    conv3 = tf.nn.max_pool(conv3, ksize=[1, 1, 1, 1], strides=[1, 1, 1, 1], padding='VALID')\n",
        "\n",
        "    # SOLUTION: Flatten. Input = 5x5x16. Output = 400.\n",
        "#     fc0   = flatten(conv2)\n",
        "    fc0   = flatten(conv3)\n",
        "    \n",
        "    # SOLUTION: Layer 3: Fully Connected. Input = 400. Output = 120. (1600, 400) (128, 400)\n",
        "    fc1_W = tf.Variable(tf.truncated_normal(shape=(12800, 400), mean = mu, stddev = sigma))\n",
        "    fc1_b = tf.Variable(tf.zeros(400))\n",
        "    fc1   = tf.matmul(fc0, fc1_W) + fc1_b\n",
        "    \n",
        "    # SOLUTION: Activation.\n",
        "    fc1    = tf.nn.relu(fc1)\n",
        "    fc1 = tf.nn.dropout(fc1, keep_prob=0.9)\n",
        "\n",
        "    # SOLUTION: Layer 4: Fully Connected. Input = 120. Output = 84.\n",
        "    fc2_W  = tf.Variable(tf.truncated_normal(shape=(400, 160), mean = mu, stddev = sigma))\n",
        "    fc2_b  = tf.Variable(tf.zeros(160))\n",
        "    fc2    = tf.matmul(fc1, fc2_W) + fc2_b\n",
        "    \n",
        "    # SOLUTION: Activation.\n",
        "    fc2 = tf.nn.dropout(fc2, keep_prob=0.7)\n",
        "\n",
        "    # SOLUTION: Layer 5: Fully Connected. Input = 84. Output = 10.\n",
        "    fc3_W  = tf.Variable(tf.truncated_normal(shape=(160, output_classes), mean = mu, stddev = sigma))\n",
        "    fc3_b  = tf.Variable(tf.zeros(output_classes))\n",
        "    logits = tf.matmul(fc2, fc3_W) + fc3_b\n",
        "    # Activation - Addition\n",
        "#     logits = tf.nn.dropout(logits, keep_prob=0.5)\n",
        "    \n",
        "    return logits\n",
        "  "
      ],
      "execution_count": 0,
      "outputs": []
    },
    {
      "metadata": {
        "id": "j8kUcHCm4a6H",
        "colab_type": "code",
        "colab": {}
      },
      "cell_type": "code",
      "source": [
        "## add preprocessing data step\n",
        "X_train_p, y_train_p = preprocess_data(X_train, y_train)\n",
        "X_v, y_v = preprocess_data(X_valid, y_valid)"
      ],
      "execution_count": 0,
      "outputs": []
    },
    {
      "metadata": {
        "id": "3C8ety3rA0HO",
        "colab_type": "text"
      },
      "cell_type": "markdown",
      "source": [
        "### Train, Validate and Test the Model"
      ]
    },
    {
      "metadata": {
        "id": "AoGy2uF4A0HP",
        "colab_type": "text"
      },
      "cell_type": "markdown",
      "source": [
        "A validation set can be used to assess how well the model is performing. A low accuracy on the training and validation\n",
        "sets imply underfitting. A high accuracy on the training set but low accuracy on the validation set implies overfitting."
      ]
    },
    {
      "metadata": {
        "id": "lI0_PmY0A0HQ",
        "colab_type": "code",
        "colab": {
          "base_uri": "https://localhost:8080/",
          "height": 823
        },
        "outputId": "70948474-8665-47da-9250-9af1b139eb10"
      },
      "cell_type": "code",
      "source": [
        "### Train your model here.\n",
        "### Calculate and report the accuracy on the training and validation set.\n",
        "### Once a final model architecture is selected, \n",
        "### the accuracy on the test set should be calculated and reported as well.\n",
        "### Feel free to use as many code cells as needed.\n",
        "from sklearn.utils import shuffle\n",
        "import tensorflow as tf\n",
        "\n",
        "x = tf.placeholder(tf.float32, (None, 32, 32, 1))\n",
        "y = tf.placeholder(tf.int32, (None))\n",
        "one_hot_y = tf.one_hot(y, n_classes)\n",
        "\n",
        "## Training pipeline\n",
        "\n",
        "rate = 0.001\n",
        "\n",
        "logits = LeNet(x, input_color=1, output_classes=n_classes)\n",
        "cross_entropy = tf.nn.softmax_cross_entropy_with_logits_v2(logits=logits, labels=one_hot_y)\n",
        "loss_operation = tf.reduce_mean(cross_entropy)\n",
        "optimizer = tf.train.AdamOptimizer(learning_rate=rate)\n",
        "training_operation = optimizer.minimize(loss_operation)\n",
        "\n",
        "## Model evaluation\n",
        "correct_prediction = tf.equal(tf.argmax(logits, 1), tf.argmax(one_hot_y, 1))\n",
        "accuracy_operation = tf.reduce_mean(tf.cast(correct_prediction, tf.float32))\n",
        "saver = tf.train.Saver()\n",
        "\n",
        "def evaluate(X_data, y_data):\n",
        "    num_examples = len(X_data)\n",
        "    total_accuracy = 0\n",
        "    sess = tf.get_default_session()\n",
        "    for offset in range(0, num_examples, BATCH_SIZE):\n",
        "        batch_x, batch_y = X_data[offset:offset+BATCH_SIZE], y_data[offset:offset+BATCH_SIZE]\n",
        "        accuracy = sess.run(accuracy_operation, feed_dict={x: batch_x, y: batch_y})\n",
        "        total_accuracy += (accuracy * len(batch_x))\n",
        "    return total_accuracy / num_examples\n",
        "  \n",
        "with tf.Session() as sess:\n",
        "    sess.run(tf.global_variables_initializer())\n",
        "    num_examples = len(X_train_p)\n",
        "    \n",
        "    print(\"Training...\")\n",
        "    print()\n",
        "    for i in range(EPOCHS):\n",
        "#         X_train, y_train = shuffle(X, y)\n",
        "        for offset in range(0, num_examples, BATCH_SIZE):\n",
        "            end = offset + BATCH_SIZE\n",
        "            batch_x, batch_y = X_train_p[offset:end], y_train_p[offset:end]\n",
        "            sess.run(training_operation, feed_dict={x: batch_x, y: batch_y})\n",
        "            \n",
        "        validation_accuracy = evaluate(X_v, y_v)\n",
        "        print(\"EPOCH {} ...\".format(i+1))\n",
        "        print(\"Validation Accuracy = {:.3f}\".format(validation_accuracy))\n",
        "        print()\n",
        "        \n",
        "    saver.save(sess, './traffic_sign')\n",
        "    print(\"Model saved\")"
      ],
      "execution_count": 13,
      "outputs": [
        {
          "output_type": "stream",
          "text": [
            "Training...\n",
            "\n",
            "EPOCH 1 ...\n",
            "Validation Accuracy = 0.841\n",
            "\n",
            "EPOCH 2 ...\n",
            "Validation Accuracy = 0.897\n",
            "\n",
            "EPOCH 3 ...\n",
            "Validation Accuracy = 0.923\n",
            "\n",
            "EPOCH 4 ...\n",
            "Validation Accuracy = 0.939\n",
            "\n",
            "EPOCH 5 ...\n",
            "Validation Accuracy = 0.937\n",
            "\n",
            "EPOCH 6 ...\n",
            "Validation Accuracy = 0.943\n",
            "\n",
            "EPOCH 7 ...\n",
            "Validation Accuracy = 0.942\n",
            "\n",
            "EPOCH 8 ...\n",
            "Validation Accuracy = 0.953\n",
            "\n",
            "EPOCH 9 ...\n",
            "Validation Accuracy = 0.949\n",
            "\n",
            "EPOCH 10 ...\n",
            "Validation Accuracy = 0.938\n",
            "\n",
            "EPOCH 11 ...\n",
            "Validation Accuracy = 0.952\n",
            "\n",
            "EPOCH 12 ...\n",
            "Validation Accuracy = 0.943\n",
            "\n",
            "EPOCH 13 ...\n",
            "Validation Accuracy = 0.944\n",
            "\n",
            "EPOCH 14 ...\n",
            "Validation Accuracy = 0.944\n",
            "\n",
            "EPOCH 15 ...\n",
            "Validation Accuracy = 0.951\n",
            "\n",
            "Model saved\n"
          ],
          "name": "stdout"
        }
      ]
    },
    {
      "metadata": {
        "id": "3ClBfkOVA0HT",
        "colab_type": "text"
      },
      "cell_type": "markdown",
      "source": [
        "---\n",
        "\n",
        "## Step 3: Test a Model on New Images\n",
        "\n",
        "To give yourself more insight into how your model is working, download at least five pictures of German traffic signs from the web and use your model to predict the traffic sign type.\n",
        "\n",
        "You may find `signnames.csv` useful as it contains mappings from the class id (integer) to the actual sign name."
      ]
    },
    {
      "metadata": {
        "id": "SmiiNWWmqnFY",
        "colab_type": "code",
        "colab": {
          "base_uri": "https://localhost:8080/",
          "height": 67
        },
        "outputId": "f55ffbaf-fc2d-4f9d-f6e3-acc61242dce0"
      },
      "cell_type": "code",
      "source": [
        "!ls"
      ],
      "execution_count": 14,
      "outputs": [
        {
          "output_type": "stream",
          "text": [
            "checkpoint  traffic_sign.data-00000-of-00001  traffic-signs-data.zip\r\n",
            "data\t    traffic_sign.index\r\n",
            "datalab     traffic_sign.meta\r\n"
          ],
          "name": "stdout"
        }
      ]
    },
    {
      "metadata": {
        "id": "mE7I-L5ENlCq",
        "colab_type": "code",
        "colab": {
          "base_uri": "https://localhost:8080/",
          "height": 67
        },
        "outputId": "30682736-0751-4716-9259-cfa9008c45b3"
      },
      "cell_type": "code",
      "source": [
        "!curl -O https://s3-us-west-1.amazonaws.com/self-driving-datasets/new_img_data.p"
      ],
      "execution_count": 15,
      "outputs": [
        {
          "output_type": "stream",
          "text": [
            "  % Total    % Received % Xferd  Average Speed   Time    Time     Time  Current\r\n",
            "                                 Dload  Upload   Total   Spent    Left  Speed\n",
            "100 31083  100 31083    0     0  31083      0  0:00:01 --:--:--  0:00:01  139k\n"
          ],
          "name": "stdout"
        }
      ]
    },
    {
      "metadata": {
        "id": "gdzO0QkRA0HU",
        "colab_type": "text"
      },
      "cell_type": "markdown",
      "source": [
        "### Load and Output the Images"
      ]
    },
    {
      "metadata": {
        "id": "RnxQpaJNA0HV",
        "colab_type": "code",
        "colab": {
          "base_uri": "https://localhost:8080/",
          "height": 282
        },
        "outputId": "3fa5778f-6e45-4e56-9907-fd066948aae4"
      },
      "cell_type": "code",
      "source": [
        "### Load the images and plot them here.\n",
        "### Feel free to use as many code cells as needed.\n",
        "import numpy as np\n",
        "\n",
        "new_img_data = load_pickle_obj('./new_img_data.p')\n",
        "\n",
        "nw_features, nw_labels = new_img_data['features'], new_img_data['labels']\n",
        "\n",
        "index = np.random.randint(0, high=len(nw_labels))\n",
        "\n",
        "print(nw_labels[index])\n",
        "plt.imshow(nw_features[index])\n",
        "plt.show()"
      ],
      "execution_count": 16,
      "outputs": [
        {
          "output_type": "stream",
          "text": [
            "3\n"
          ],
          "name": "stdout"
        },
        {
          "output_type": "display_data",
          "data": {
            "image/png": "[encoded data removed]",
            "text/plain": [
              "<matplotlib.figure.Figure at 0x7f16e458f358>"
            ]
          },
          "metadata": {
            "tags": []
          }
        }
      ]
    },
    {
      "metadata": {
        "id": "12xDDmSlU2F7",
        "colab_type": "code",
        "colab": {}
      },
      "cell_type": "code",
      "source": [
        "## Pre-processing the new images\n",
        "nw_features, nw_labels = preprocess_data(nw_features, nw_labels)"
      ],
      "execution_count": 0,
      "outputs": []
    },
    {
      "metadata": {
        "id": "EHVFxkFEiEtH",
        "colab_type": "code",
        "colab": {
          "base_uri": "https://localhost:8080/",
          "height": 50
        },
        "outputId": "73d08253-7fcd-4641-e06f-f0922b61df14"
      },
      "cell_type": "code",
      "source": [
        "print('Total new images = {}'.format(len(nw_features)))\n",
        "print('Total labels = {}'.format(nw_labels))"
      ],
      "execution_count": 18,
      "outputs": [
        {
          "output_type": "stream",
          "text": [
            "Total new images = 10\n",
            "Total labels = [ 3 33 12 33 38  3  2  4 38 31]\n"
          ],
          "name": "stdout"
        }
      ]
    },
    {
      "metadata": {
        "id": "za69GjPpA0HX",
        "colab_type": "text"
      },
      "cell_type": "markdown",
      "source": [
        "### Predict the Sign Type for Each Image"
      ]
    },
    {
      "metadata": {
        "id": "g30kNCPfA0HY",
        "colab_type": "code",
        "colab": {
          "base_uri": "https://localhost:8080/",
          "height": 50
        },
        "outputId": "adfbf9a1-e348-48aa-b9d1-b6db33549459"
      },
      "cell_type": "code",
      "source": [
        "### Run the predictions here and use the model to output the prediction for each image.\n",
        "### Make sure to pre-process the images with the same pre-processing pipeline used earlier.\n",
        "### Feel free to use as many code cells as needed.\n",
        "prediction = tf.argmax(logits, 1)\n",
        "softmax_op = tf.nn.softmax(logits)\n",
        "with tf.Session() as sess:\n",
        "  model = tf.train.import_meta_graph('./traffic_sign.meta')\n",
        "  model.restore(sess, tf.train.latest_checkpoint('./'))\n",
        "  accuracy, _, _, predict, softmax_probs = sess.run([accuracy_operation, correct_prediction, logits, prediction, softmax_op], feed_dict={x:nw_features, y:nw_labels})\n",
        "  print('accuracy = {}, predictions = {}'.format(accuracy, predict))"
      ],
      "execution_count": 19,
      "outputs": [
        {
          "output_type": "stream",
          "text": [
            "INFO:tensorflow:Restoring parameters from ./traffic_sign\n",
            "accuracy = 1.0, predictions = [ 3 33 12 33 38  3  2  4 38 31]\n"
          ],
          "name": "stdout"
        }
      ]
    },
    {
      "metadata": {
        "id": "0BS6kAFtA0Ha",
        "colab_type": "text"
      },
      "cell_type": "markdown",
      "source": [
        "### Analyze Performance"
      ]
    },
    {
      "metadata": {
        "id": "lBiN_pUYA0Hb",
        "colab_type": "code",
        "colab": {
          "base_uri": "https://localhost:8080/",
          "height": 34
        },
        "outputId": "ac0159b2-95ec-4414-e863-4128c4e8e9ee"
      },
      "cell_type": "code",
      "source": [
        "### Calculate the accuracy for these 5 new images. \n",
        "### For example, if the model predicted 1 out of 5 signs correctly, it's 20% accurate on these new images.\n",
        "print('Accuracy for the above batch of images = {}%'.format(accuracy*100))"
      ],
      "execution_count": 20,
      "outputs": [
        {
          "output_type": "stream",
          "text": [
            "Accuracy for the above batch of images = 100.0%\n"
          ],
          "name": "stdout"
        }
      ]
    },
    {
      "metadata": {
        "id": "BAE90Va9A0He",
        "colab_type": "text"
      },
      "cell_type": "markdown",
      "source": [
        "### Output Top 5 Softmax Probabilities For Each Image Found on the Web"
      ]
    },
    {
      "metadata": {
        "id": "UKEjp9MfA0Hf",
        "colab_type": "text"
      },
      "cell_type": "markdown",
      "source": [
        "For each of the new images, print out the model's softmax probabilities to show the **certainty** of the model's predictions (limit the output to the top 5 probabilities for each image). [`tf.nn.top_k`](https://www.tensorflow.org/versions/r0.12/api_docs/python/nn.html#top_k) could prove helpful here. \n",
        "\n",
        "The example below demonstrates how tf.nn.top_k can be used to find the top k predictions for each image.\n",
        "\n",
        "`tf.nn.top_k` will return the values and indices (class ids) of the top k predictions. So if k=3, for each sign, it'll return the 3 largest probabilities (out of a possible 43) and the correspoding class ids.\n",
        "\n",
        "Take this numpy array as an example. The values in the array represent predictions. The array contains softmax probabilities for five candidate images with six possible classes. `tf.nn.top_k` is used to choose the three classes with the highest probability:\n",
        "\n",
        "```\n",
        "# (5, 6) array\n",
        "a = np.array([[ 0.24879643,  0.07032244,  0.12641572,  0.34763842,  0.07893497,\n",
        "         0.12789202],\n",
        "       [ 0.28086119,  0.27569815,  0.08594638,  0.0178669 ,  0.18063401,\n",
        "         0.15899337],\n",
        "       [ 0.26076848,  0.23664738,  0.08020603,  0.07001922,  0.1134371 ,\n",
        "         0.23892179],\n",
        "       [ 0.11943333,  0.29198961,  0.02605103,  0.26234032,  0.1351348 ,\n",
        "         0.16505091],\n",
        "       [ 0.09561176,  0.34396535,  0.0643941 ,  0.16240774,  0.24206137,\n",
        "         0.09155967]])\n",
        "```\n",
        "\n",
        "Running it through `sess.run(tf.nn.top_k(tf.constant(a), k=3))` produces:\n",
        "\n",
        "```\n",
        "TopKV2(values=array([[ 0.34763842,  0.24879643,  0.12789202],\n",
        "       [ 0.28086119,  0.27569815,  0.18063401],\n",
        "       [ 0.26076848,  0.23892179,  0.23664738],\n",
        "       [ 0.29198961,  0.26234032,  0.16505091],\n",
        "       [ 0.34396535,  0.24206137,  0.16240774]]), indices=array([[3, 0, 5],\n",
        "       [0, 1, 4],\n",
        "       [0, 5, 1],\n",
        "       [1, 3, 5],\n",
        "       [1, 4, 3]], dtype=int32))\n",
        "```\n",
        "\n",
        "Looking just at the first row we get `[ 0.34763842,  0.24879643,  0.12789202]`, you can confirm these are the 3 largest probabilities in `a`. You'll also notice `[3, 0, 5]` are the corresponding indices."
      ]
    },
    {
      "metadata": {
        "id": "ueFzqlT3A0Hf",
        "colab_type": "code",
        "colab": {
          "base_uri": "https://localhost:8080/",
          "height": 504
        },
        "outputId": "b911c522-81de-4d04-9d6a-e70bd0b38764"
      },
      "cell_type": "code",
      "source": [
        "### Print out the top five softmax probabilities for the predictions on the German traffic sign images found on the web. \n",
        "### Feel free to use as many code cells as needed.\n",
        "\n",
        "with tf.Session() as sess:\n",
        "  top_5_softmax_prob = sess.run(tf.nn.top_k(softmax_probs, k=5))\n",
        "  print(top_5_softmax_prob)"
      ],
      "execution_count": 21,
      "outputs": [
        {
          "output_type": "stream",
          "text": [
            "TopKV2(values=array([[1.00000000e+00, 2.98517687e-14, 2.80290216e-14, 9.67014148e-15,\n",
            "        9.25692344e-16],\n",
            "       [5.81405401e-01, 4.18405712e-01, 1.30171553e-04, 3.90650239e-05,\n",
            "        1.85432818e-05],\n",
            "       [9.85126138e-01, 1.48183955e-02, 2.64558093e-05, 1.58168423e-05,\n",
            "        9.77194486e-06],\n",
            "       [1.00000000e+00, 2.20024248e-13, 9.83583400e-14, 6.43416662e-14,\n",
            "        3.88071160e-14],\n",
            "       [1.00000000e+00, 1.24676669e-09, 3.90528061e-11, 4.90751884e-12,\n",
            "        3.45563096e-12],\n",
            "       [9.99999642e-01, 1.89980298e-07, 1.07933317e-07, 4.58952378e-08,\n",
            "        2.19908110e-08],\n",
            "       [1.00000000e+00, 3.46493224e-26, 1.44445844e-27, 1.38324728e-27,\n",
            "        2.57419941e-28],\n",
            "       [1.00000000e+00, 9.71358410e-11, 2.48196377e-11, 1.99462105e-12,\n",
            "        7.47740675e-16],\n",
            "       [1.00000000e+00, 1.99481809e-09, 9.94317684e-11, 4.33381152e-12,\n",
            "        1.40988309e-13],\n",
            "       [1.00000000e+00, 1.05269433e-16, 9.65711858e-17, 5.03837432e-17,\n",
            "        3.61591847e-17]], dtype=float32), indices=array([[ 3, 35,  5,  9, 29],\n",
            "       [33, 10,  2,  7,  5],\n",
            "       [12, 40, 13, 37, 26],\n",
            "       [33,  7, 10, 35,  4],\n",
            "       [38, 34, 15,  6,  8],\n",
            "       [ 3,  5, 28, 35, 31],\n",
            "       [ 2,  1, 10,  5, 38],\n",
            "       [ 4,  0,  8,  1, 18],\n",
            "       [38, 34, 36, 13, 20],\n",
            "       [31, 25,  6, 21,  0]], dtype=int32))\n"
          ],
          "name": "stdout"
        }
      ]
    },
    {
      "metadata": {
        "id": "bPTOwESBA0Hk",
        "colab_type": "text"
      },
      "cell_type": "markdown",
      "source": [
        "### Project Writeup\n",
        "\n",
        "Once you have completed the code implementation, document your results in a project writeup using this [template](https://github.com/udacity/CarND-Traffic-Sign-Classifier-Project/blob/master/writeup_template.md) as a guide. The writeup can be in a markdown or pdf file. "
      ]
    },
    {
      "metadata": {
        "id": "C12ALK5jA0Hk",
        "colab_type": "text"
      },
      "cell_type": "markdown",
      "source": [
        "> **Note**: Once you have completed all of the code implementations and successfully answered each question above, you may finalize your work by exporting the iPython Notebook as an HTML document. You can do this by using the menu above and navigating to  \\n\",\n",
        "    \"**File -> Download as -> HTML (.html)**. Include the finished document along with this notebook as your submission."
      ]
    },
    {
      "metadata": {
        "id": "dt-qF_mtA0Hm",
        "colab_type": "text"
      },
      "cell_type": "markdown",
      "source": [
        "---\n",
        "\n",
        "## Step 4 (Optional): Visualize the Neural Network's State with Test Images\n",
        "\n",
        " This Section is not required to complete but acts as an additional excersise for understaning the output of a neural network's weights. While neural networks can be a great learning device they are often referred to as a black box. We can understand what the weights of a neural network look like better by plotting their feature maps. After successfully training your neural network you can see what it's feature maps look like by plotting the output of the network's weight layers in response to a test stimuli image. From these plotted feature maps, it's possible to see what characteristics of an image the network finds interesting. For a sign, maybe the inner network feature maps react with high activation to the sign's boundary outline or to the contrast in the sign's painted symbol.\n",
        "\n",
        " Provided for you below is the function code that allows you to get the visualization output of any tensorflow weight layer you want. The inputs to the function should be a stimuli image, one used during training or a new one you provided, and then the tensorflow variable name that represents the layer's state during the training process, for instance if you wanted to see what the [LeNet lab's](https://classroom.udacity.com/nanodegrees/nd013/parts/fbf77062-5703-404e-b60c-95b78b2f3f9e/modules/6df7ae49-c61c-4bb2-a23e-6527e69209ec/lessons/601ae704-1035-4287-8b11-e2c2716217ad/concepts/d4aca031-508f-4e0b-b493-e7b706120f81) feature maps looked like for it's second convolutional layer you could enter conv2 as the tf_activation variable.\n",
        "\n",
        "For an example of what feature map outputs look like, check out NVIDIA's results in their paper [End-to-End Deep Learning for Self-Driving Cars](https://devblogs.nvidia.com/parallelforall/deep-learning-self-driving-cars/) in the section Visualization of internal CNN State. NVIDIA was able to show that their network's inner weights had high activations to road boundary lines by comparing feature maps from an image with a clear path to one without. Try experimenting with a similar test to show that your trained network's weights are looking for interesting features, whether it's looking at differences in feature maps from images with or without a sign, or even what feature maps look like in a trained network vs a completely untrained one on the same sign image.\n",
        "\n",
        "<figure>\n",
        " <img src=\"visualize_cnn.png\" width=\"380\" alt=\"Combined Image\" />\n",
        " <figcaption>\n",
        " <p></p> \n",
        " <p style=\"text-align: center;\"> Your output should look something like this (above)</p> \n",
        " </figcaption>\n",
        "</figure>\n",
        " <p></p> \n"
      ]
    },
    {
      "metadata": {
        "id": "2BZmN7GCA0Hm",
        "colab_type": "code",
        "colab": {}
      },
      "cell_type": "code",
      "source": [
        "### Visualize your network's feature maps here.\n",
        "### Feel free to use as many code cells as needed.\n",
        "\n",
        "# image_input: the test image being fed into the network to produce the feature maps\n",
        "# tf_activation: should be a tf variable name used during your training procedure that represents the calculated state of a specific weight layer\n",
        "# activation_min/max: can be used to view the activation contrast in more detail, by default matplot sets min and max to the actual min and max values of the output\n",
        "# plt_num: used to plot out multiple different weight feature map sets on the same block, just extend the plt number for each new feature map entry\n",
        "\n",
        "def outputFeatureMap(image_input, tf_activation, activation_min=-1, activation_max=-1 ,plt_num=1):\n",
        "    # Here make sure to preprocess your image_input in a way your network expects\n",
        "    # with size, normalization, ect if needed\n",
        "    # image_input =\n",
        "    # Note: x should be the same name as your network's tensorflow data placeholder variable\n",
        "    # If you get an error tf_activation is not defined it may be having trouble accessing the variable from inside a function\n",
        "    activation = tf_activation.eval(session=sess,feed_dict={x : image_input})\n",
        "    featuremaps = activation.shape[3]\n",
        "    plt.figure(plt_num, figsize=(15,15))\n",
        "    for featuremap in range(featuremaps):\n",
        "        plt.subplot(6,8, featuremap+1) # sets the number of feature maps to show on each row and column\n",
        "        plt.title('FeatureMap ' + str(featuremap)) # displays the feature map number\n",
        "        if activation_min != -1 & activation_max != -1:\n",
        "            plt.imshow(activation[0,:,:, featuremap], interpolation=\"nearest\", vmin =activation_min, vmax=activation_max, cmap=\"gray\")\n",
        "        elif activation_max != -1:\n",
        "            plt.imshow(activation[0,:,:, featuremap], interpolation=\"nearest\", vmax=activation_max, cmap=\"gray\")\n",
        "        elif activation_min !=-1:\n",
        "            plt.imshow(activation[0,:,:, featuremap], interpolation=\"nearest\", vmin=activation_min, cmap=\"gray\")\n",
        "        else:\n",
        "            plt.imshow(activation[0,:,:, featuremap], interpolation=\"nearest\", cmap=\"gray\")"
      ],
      "execution_count": 0,
      "outputs": []
    }
  ]
}